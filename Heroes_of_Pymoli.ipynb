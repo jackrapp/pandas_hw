{
 "cells": [
  {
   "cell_type": "markdown",
   "metadata": {},
   "source": [
    "# Heroes of Pymoli Data Analysis\n",
    " - The majority of players are male and between the ages of 15-24. Spending on items does not vary significantly between ages and genders.\n",
    " - The three most profitable items are also three of the most popular, meaning higher prices do not deter players from buying good items.\n",
    " - The average purchase per player is \\\\$4.13, the five players with the highest purchase values range from \\\\$13.10-\\\\$18.96. This is more than 3 times the average purchase."
   ]
  },
  {
   "cell_type": "code",
   "execution_count": 1,
   "metadata": {},
   "outputs": [],
   "source": [
    "#Dependencies and files\n",
    "import pandas as pd\n",
    "import numpy as np\n",
    "import matplotlib.pyplot as plt\n",
    "\n",
    "inputfile = \"resources/purchase_data.csv\"\n",
    "heroes_df = pd.read_csv(inputfile)"
   ]
  },
  {
   "cell_type": "code",
   "execution_count": 2,
   "metadata": {},
   "outputs": [
    {
     "data": {
      "text/plain": [
       "Index(['Purchase ID', 'SN', 'Age', 'Gender', 'Item ID', 'Item Name', 'Price'], dtype='object')"
      ]
     },
     "execution_count": 2,
     "metadata": {},
     "output_type": "execute_result"
    }
   ],
   "source": [
    "#find general info about dataframe\n",
    "heroes_df.columns"
   ]
  },
  {
   "cell_type": "markdown",
   "metadata": {},
   "source": [
    "### Player Count"
   ]
  },
  {
   "cell_type": "code",
   "execution_count": 3,
   "metadata": {},
   "outputs": [
    {
     "data": {
      "text/html": [
       "<div>\n",
       "<style scoped>\n",
       "    .dataframe tbody tr th:only-of-type {\n",
       "        vertical-align: middle;\n",
       "    }\n",
       "\n",
       "    .dataframe tbody tr th {\n",
       "        vertical-align: top;\n",
       "    }\n",
       "\n",
       "    .dataframe thead th {\n",
       "        text-align: right;\n",
       "    }\n",
       "</style>\n",
       "<table border=\"1\" class=\"dataframe\">\n",
       "  <thead>\n",
       "    <tr style=\"text-align: right;\">\n",
       "      <th></th>\n",
       "      <th>Number of Players</th>\n",
       "    </tr>\n",
       "  </thead>\n",
       "  <tbody>\n",
       "    <tr>\n",
       "      <th>0</th>\n",
       "      <td>576</td>\n",
       "    </tr>\n",
       "  </tbody>\n",
       "</table>\n",
       "</div>"
      ],
      "text/plain": [
       "   Number of Players\n",
       "0                576"
      ]
     },
     "execution_count": 3,
     "metadata": {},
     "output_type": "execute_result"
    }
   ],
   "source": [
    "#count of unique names\n",
    "players = heroes_df[\"SN\"].nunique()\n",
    "\n",
    "#data table\n",
    "player_count =pd.DataFrame({\"Number of Players\":[players]})\n",
    "player_count"
   ]
  },
  {
   "cell_type": "markdown",
   "metadata": {},
   "source": [
    "### Purchase Analysis (Total)"
   ]
  },
  {
   "cell_type": "code",
   "execution_count": 4,
   "metadata": {},
   "outputs": [
    {
     "data": {
      "text/html": [
       "<div>\n",
       "<style scoped>\n",
       "    .dataframe tbody tr th:only-of-type {\n",
       "        vertical-align: middle;\n",
       "    }\n",
       "\n",
       "    .dataframe tbody tr th {\n",
       "        vertical-align: top;\n",
       "    }\n",
       "\n",
       "    .dataframe thead th {\n",
       "        text-align: right;\n",
       "    }\n",
       "</style>\n",
       "<table border=\"1\" class=\"dataframe\">\n",
       "  <thead>\n",
       "    <tr style=\"text-align: right;\">\n",
       "      <th></th>\n",
       "      <th>Number of Unique Items</th>\n",
       "      <th>Average Purchase Price</th>\n",
       "      <th>Total Number of Purchases</th>\n",
       "      <th>Total Revenue</th>\n",
       "    </tr>\n",
       "  </thead>\n",
       "  <tbody>\n",
       "    <tr>\n",
       "      <th>0</th>\n",
       "      <td>179</td>\n",
       "      <td>$3.05</td>\n",
       "      <td>780</td>\n",
       "      <td>$2,379.77</td>\n",
       "    </tr>\n",
       "  </tbody>\n",
       "</table>\n",
       "</div>"
      ],
      "text/plain": [
       "   Number of Unique Items Average Purchase Price  Total Number of Purchases  \\\n",
       "0                     179                  $3.05                        780   \n",
       "\n",
       "  Total Revenue  \n",
       "0     $2,379.77  "
      ]
     },
     "execution_count": 4,
     "metadata": {},
     "output_type": "execute_result"
    }
   ],
   "source": [
    "#find number of unique items\n",
    "items = heroes_df[\"Item Name\"].nunique()\n",
    "#find average purchase price\n",
    "avg_price = heroes_df[\"Price\"].mean()\n",
    "#total number of purchases\n",
    "total_pur = len(heroes_df)\n",
    "#total revenue\n",
    "total_rev = heroes_df[\"Price\"].sum()\n",
    "#format $ values\n",
    "avg_price_f = \"${:,.2f}\".format(avg_price)\n",
    "total_rev_f = \"${:,.2f}\".format(total_rev)\n",
    "\n",
    "#display in table\n",
    "pur_analysis = pd.DataFrame({\"Number of Unique Items\":[items],\"Average Purchase Price\":[avg_price_f],\"Total Number of Purchases\":[total_pur],\"Total Revenue\":[total_rev_f]})\n",
    "pur_analysis"
   ]
  },
  {
   "cell_type": "markdown",
   "metadata": {},
   "source": [
    "### Gender Demographics"
   ]
  },
  {
   "cell_type": "code",
   "execution_count": 5,
   "metadata": {},
   "outputs": [
    {
     "data": {
      "text/html": [
       "<div>\n",
       "<style scoped>\n",
       "    .dataframe tbody tr th:only-of-type {\n",
       "        vertical-align: middle;\n",
       "    }\n",
       "\n",
       "    .dataframe tbody tr th {\n",
       "        vertical-align: top;\n",
       "    }\n",
       "\n",
       "    .dataframe thead th {\n",
       "        text-align: right;\n",
       "    }\n",
       "</style>\n",
       "<table border=\"1\" class=\"dataframe\">\n",
       "  <thead>\n",
       "    <tr style=\"text-align: right;\">\n",
       "      <th></th>\n",
       "      <th>Player Count</th>\n",
       "      <th>Percentage</th>\n",
       "    </tr>\n",
       "    <tr>\n",
       "      <th>Gender</th>\n",
       "      <th></th>\n",
       "      <th></th>\n",
       "    </tr>\n",
       "  </thead>\n",
       "  <tbody>\n",
       "    <tr>\n",
       "      <th>Male</th>\n",
       "      <td>484</td>\n",
       "      <td>84.03%</td>\n",
       "    </tr>\n",
       "    <tr>\n",
       "      <th>Female</th>\n",
       "      <td>81</td>\n",
       "      <td>14.06%</td>\n",
       "    </tr>\n",
       "    <tr>\n",
       "      <th>Other / Non-Disclosed</th>\n",
       "      <td>11</td>\n",
       "      <td>1.91%</td>\n",
       "    </tr>\n",
       "  </tbody>\n",
       "</table>\n",
       "</div>"
      ],
      "text/plain": [
       "                       Player Count Percentage\n",
       "Gender                                        \n",
       "Male                            484     84.03%\n",
       "Female                           81     14.06%\n",
       "Other / Non-Disclosed            11      1.91%"
      ]
     },
     "execution_count": 5,
     "metadata": {},
     "output_type": "execute_result"
    }
   ],
   "source": [
    "#groupby gender\n",
    "#add SN to filter out multiple purchases by same player name\n",
    "gender_df = heroes_df.groupby(\"Gender\").SN.nunique()\n",
    "#gather data\n",
    "male = gender_df[\"Male\"]\n",
    "female = gender_df[\"Female\"]\n",
    "other = gender_df[\"Other / Non-Disclosed\"]\n",
    "\n",
    "#calculate percentages, add formatting\n",
    "male_per = \"{:,.2f}%\".format(male/players*100)\n",
    "female_per = \"{:,.2f}%\".format(female/players*100)\n",
    "other_per = \"{:,.2f}%\".format(other/players*100)\n",
    "\n",
    "#make table\n",
    "gender_dem_df = pd.DataFrame({\"Gender\":[\"Male\",\"Female\",\"Other / Non-Disclosed\"],\"Player Count\":[male, female, other],\"Percentage\":[male_per, female_per, other_per]})\n",
    "gender_dem_df = gender_dem_df.set_index(\"Gender\")\n",
    "gender_dem_df\n"
   ]
  },
  {
   "cell_type": "markdown",
   "metadata": {},
   "source": [
    "### Purchase Analysis (Gender)\n",
    "Breakdown total purchases, average purchase price, total purchase value and average purchase per person by gender"
   ]
  },
  {
   "cell_type": "code",
   "execution_count": 6,
   "metadata": {},
   "outputs": [],
   "source": [
    "#grouby gender\n",
    "gender_df_2 = heroes_df.groupby(\"Gender\")\n",
    "#purchase count series\n",
    "gender_pur_ct = gender_df_2[\"Gender\"].count()\n",
    "#average purchase price\n",
    "gender_avg_pri = gender_df_2[\"Price\"].mean()\n",
    "#total purchase value\n",
    "gender_pur = gender_df_2[\"Price\"].sum()\n",
    "#average purchase per person per gender (using unique counts from line above)\n",
    "gender_avg_pur = gender_pur/gender_df\n",
    "\n",
    "#summary df\n",
    "gender_pur_df = pd.concat([gender_pur_ct, gender_avg_pri, gender_pur, gender_avg_pur], axis=1, \n",
    "                          keys=['Total Purchases','Average Purchase Price','Total Purchase Value','Average Purchase per Person'])"
   ]
  },
  {
   "cell_type": "code",
   "execution_count": 7,
   "metadata": {},
   "outputs": [],
   "source": [
    "#total statistics\n",
    "    # purchase count = total_pur\n",
    "    # average purchase price = avg_price\n",
    "    # total purchase value = total_rev\n",
    "    # average purchase per person = total_rev/players\n",
    "total_pur_df = pd.DataFrame({'Gender':['All'],\"Total Purchases\":[total_pur],\"Average Purchase Price\":[avg_price],\n",
    "                             \"Total Purchase Value\":[total_rev],'Average Purchase per Person':[total_rev/players]})\n",
    "total_pur_df.set_index('Gender', inplace = True)\n",
    "total_pur_df\n",
    "\n",
    "# add to summary dataframe\n",
    "gender_pur_df = gender_pur_df.append(total_pur_df)"
   ]
  },
  {
   "cell_type": "code",
   "execution_count": 8,
   "metadata": {},
   "outputs": [
    {
     "data": {
      "text/html": [
       "<div>\n",
       "<style scoped>\n",
       "    .dataframe tbody tr th:only-of-type {\n",
       "        vertical-align: middle;\n",
       "    }\n",
       "\n",
       "    .dataframe tbody tr th {\n",
       "        vertical-align: top;\n",
       "    }\n",
       "\n",
       "    .dataframe thead th {\n",
       "        text-align: right;\n",
       "    }\n",
       "</style>\n",
       "<table border=\"1\" class=\"dataframe\">\n",
       "  <thead>\n",
       "    <tr style=\"text-align: right;\">\n",
       "      <th></th>\n",
       "      <th>Total Purchases</th>\n",
       "      <th>Average Purchase Price</th>\n",
       "      <th>Total Purchase Value</th>\n",
       "      <th>Average Purchase per Person</th>\n",
       "    </tr>\n",
       "    <tr>\n",
       "      <th>Gender</th>\n",
       "      <th></th>\n",
       "      <th></th>\n",
       "      <th></th>\n",
       "      <th></th>\n",
       "    </tr>\n",
       "  </thead>\n",
       "  <tbody>\n",
       "    <tr>\n",
       "      <th>Female</th>\n",
       "      <td>113</td>\n",
       "      <td>$3.20</td>\n",
       "      <td>$361.94</td>\n",
       "      <td>$4.47</td>\n",
       "    </tr>\n",
       "    <tr>\n",
       "      <th>Male</th>\n",
       "      <td>652</td>\n",
       "      <td>$3.02</td>\n",
       "      <td>$1,967.64</td>\n",
       "      <td>$4.07</td>\n",
       "    </tr>\n",
       "    <tr>\n",
       "      <th>Other / Non-Disclosed</th>\n",
       "      <td>15</td>\n",
       "      <td>$3.35</td>\n",
       "      <td>$50.19</td>\n",
       "      <td>$4.56</td>\n",
       "    </tr>\n",
       "    <tr>\n",
       "      <th>All</th>\n",
       "      <td>780</td>\n",
       "      <td>$3.05</td>\n",
       "      <td>$2,379.77</td>\n",
       "      <td>$4.13</td>\n",
       "    </tr>\n",
       "  </tbody>\n",
       "</table>\n",
       "</div>"
      ],
      "text/plain": [
       "                       Total Purchases Average Purchase Price  \\\n",
       "Gender                                                          \n",
       "Female                             113                  $3.20   \n",
       "Male                               652                  $3.02   \n",
       "Other / Non-Disclosed               15                  $3.35   \n",
       "All                                780                  $3.05   \n",
       "\n",
       "                      Total Purchase Value Average Purchase per Person  \n",
       "Gender                                                                  \n",
       "Female                             $361.94                       $4.47  \n",
       "Male                             $1,967.64                       $4.07  \n",
       "Other / Non-Disclosed               $50.19                       $4.56  \n",
       "All                              $2,379.77                       $4.13  "
      ]
     },
     "execution_count": 8,
     "metadata": {},
     "output_type": "execute_result"
    }
   ],
   "source": [
    "#format df\n",
    "gender_pur_df[\"Average Purchase Price\"] = gender_pur_df[\"Average Purchase Price\"].map(\"${:,.2f}\".format)\n",
    "gender_pur_df[\"Total Purchase Value\"] = gender_pur_df[\"Total Purchase Value\"].map(\"${:,.2f}\".format)\n",
    "gender_pur_df[\"Average Purchase per Person\"] = gender_pur_df[\"Average Purchase per Person\"].map(\"${:,.2f}\".format)\n",
    "gender_pur_df"
   ]
  },
  {
   "cell_type": "markdown",
   "metadata": {},
   "source": [
    "### Age Demographics\n",
    "\n",
    "Split dataset into groups of 5-year bins, then find the number of players and percentage of total players in each group"
   ]
  },
  {
   "cell_type": "code",
   "execution_count": 9,
   "metadata": {},
   "outputs": [],
   "source": [
    "#maximum age data\n",
    "heroes_df[\"Age\"].max()\n",
    "#create bins \n",
    "bins = [0,10,15,20,25,30,35,40,46]\n",
    "labels = [\"<10\",\"11-14\",\"15-19\",\"20-24\",\"25-29\",\"30-34\",\"35-39\",\"40+\"]\n",
    "#didvide data frame\n",
    "heroes_df[\"Age Group\"] = pd.cut(heroes_df[\"Age\"], bins, labels=labels)\n",
    "#groupby age group, couting only unique IDs\n",
    "heroes_age = heroes_df.groupby([\"Age Group\"])['SN'].agg('nunique').reset_index()\n",
    "# rename SN column\n",
    "age_df = heroes_age.rename(columns={'SN':'Number of Players'})\n",
    "\n",
    "#percentage of total\n",
    "age_df['Percentage of Total'] = age_df['Number of Players'].map(lambda x: x/players*100)"
   ]
  },
  {
   "cell_type": "code",
   "execution_count": 10,
   "metadata": {
    "scrolled": true
   },
   "outputs": [
    {
     "data": {
      "text/html": [
       "<div>\n",
       "<style scoped>\n",
       "    .dataframe tbody tr th:only-of-type {\n",
       "        vertical-align: middle;\n",
       "    }\n",
       "\n",
       "    .dataframe tbody tr th {\n",
       "        vertical-align: top;\n",
       "    }\n",
       "\n",
       "    .dataframe thead th {\n",
       "        text-align: right;\n",
       "    }\n",
       "</style>\n",
       "<table border=\"1\" class=\"dataframe\">\n",
       "  <thead>\n",
       "    <tr style=\"text-align: right;\">\n",
       "      <th></th>\n",
       "      <th>Number of Players</th>\n",
       "      <th>Percentage of Total</th>\n",
       "    </tr>\n",
       "    <tr>\n",
       "      <th>Age Group</th>\n",
       "      <th></th>\n",
       "      <th></th>\n",
       "    </tr>\n",
       "  </thead>\n",
       "  <tbody>\n",
       "    <tr>\n",
       "      <th>&lt;10</th>\n",
       "      <td>24</td>\n",
       "      <td>4.17%</td>\n",
       "    </tr>\n",
       "    <tr>\n",
       "      <th>11-14</th>\n",
       "      <td>41</td>\n",
       "      <td>7.12%</td>\n",
       "    </tr>\n",
       "    <tr>\n",
       "      <th>15-19</th>\n",
       "      <td>150</td>\n",
       "      <td>26.04%</td>\n",
       "    </tr>\n",
       "    <tr>\n",
       "      <th>20-24</th>\n",
       "      <td>232</td>\n",
       "      <td>40.28%</td>\n",
       "    </tr>\n",
       "    <tr>\n",
       "      <th>25-29</th>\n",
       "      <td>59</td>\n",
       "      <td>10.24%</td>\n",
       "    </tr>\n",
       "    <tr>\n",
       "      <th>30-34</th>\n",
       "      <td>37</td>\n",
       "      <td>6.42%</td>\n",
       "    </tr>\n",
       "    <tr>\n",
       "      <th>35-39</th>\n",
       "      <td>26</td>\n",
       "      <td>4.51%</td>\n",
       "    </tr>\n",
       "    <tr>\n",
       "      <th>40+</th>\n",
       "      <td>7</td>\n",
       "      <td>1.22%</td>\n",
       "    </tr>\n",
       "  </tbody>\n",
       "</table>\n",
       "</div>"
      ],
      "text/plain": [
       "           Number of Players Percentage of Total\n",
       "Age Group                                       \n",
       "<10                       24               4.17%\n",
       "11-14                     41               7.12%\n",
       "15-19                    150              26.04%\n",
       "20-24                    232              40.28%\n",
       "25-29                     59              10.24%\n",
       "30-34                     37               6.42%\n",
       "35-39                     26               4.51%\n",
       "40+                        7               1.22%"
      ]
     },
     "execution_count": 10,
     "metadata": {},
     "output_type": "execute_result"
    }
   ],
   "source": [
    "#format dataframe\n",
    "age_df[\"Percentage of Total\"] = age_df[\"Percentage of Total\"].map(\"{:,.2f}%\".format)\n",
    "age_df.set_index('Age Group', inplace=True)\n",
    "age_df"
   ]
  },
  {
   "cell_type": "code",
   "execution_count": 11,
   "metadata": {},
   "outputs": [
    {
     "data": {
      "image/png": "[encoded data removed]",
      "text/plain": [
       "<Figure size 648x432 with 1 Axes>"
      ]
     },
     "metadata": {
      "needs_background": "light"
     },
     "output_type": "display_data"
    }
   ],
   "source": [
    "# Age histogram\n",
    "x = np.arange(0,len(bins))\n",
    "\n",
    "# Build the bar chart\n",
    "heroes_age.plot(kind='bar', title = \"Player Age Distribution\", figsize=(9,6),\n",
    "               x='Age Group', y='SN', legend=None, color='lightslategrey')\n",
    "\n",
    "plt.axhline(color=\"black\")\n",
    "plt.grid(which=\"major\")\n",
    "plt.xticks(x, labels=labels)\n",
    "plt.ylabel('Number of Players')\n",
    "\n",
    "\n",
    "# Save the Figure\n",
    "plt.savefig(\"Resources/player_distribution.png\")\n",
    "plt.show()\n"
   ]
  },
  {
   "cell_type": "markdown",
   "metadata": {},
   "source": [
    "### Purchase Analysis (Age)\n",
    "Breakdown total purchases, average purchase price, total purchase value and average purchase per person by age"
   ]
  },
  {
   "cell_type": "code",
   "execution_count": 45,
   "metadata": {},
   "outputs": [],
   "source": [
    "# Find number of purchases, total purchases, average price and \n",
    "# Groupby age and then aggregate\n",
    "purch_age = heroes_df.groupby(['Age Group']).agg(\n",
    "    # Purchase count\n",
    "    {'Age Group':'count',\n",
    "     # Average price and Total purchase value\n",
    "     'Price':['mean',sum]})\n",
    "# Reset multi-index\n",
    "purch_age.columns = purch_age.columns.droplevel(level=0)\n",
    "purch_age.reset_index(inplace=True)\n",
    "\n",
    "# Average per person\n",
    "purch_age['Average Purchase Per Person'] = purch_age.loc[:,'sum']/heroes_age.loc[:,'SN']\n",
    "\n",
    "# Rename columns\n",
    "age_dem_df = purch_age.rename(columns={'count':'Number of Purchases',\n",
    "                                       'mean':'Average Purchase Price','sum':\"Total Purchase Value\"})\n"
   ]
  },
  {
   "cell_type": "code",
   "execution_count": 46,
   "metadata": {},
   "outputs": [
    {
     "data": {
      "text/html": [
       "<div>\n",
       "<style scoped>\n",
       "    .dataframe tbody tr th:only-of-type {\n",
       "        vertical-align: middle;\n",
       "    }\n",
       "\n",
       "    .dataframe tbody tr th {\n",
       "        vertical-align: top;\n",
       "    }\n",
       "\n",
       "    .dataframe thead th {\n",
       "        text-align: right;\n",
       "    }\n",
       "</style>\n",
       "<table border=\"1\" class=\"dataframe\">\n",
       "  <thead>\n",
       "    <tr style=\"text-align: right;\">\n",
       "      <th></th>\n",
       "      <th>Age Group</th>\n",
       "      <th>Number of Purchases</th>\n",
       "      <th>Average Purchase Price</th>\n",
       "      <th>Total Purchase Value</th>\n",
       "      <th>Average Purchase Per Person</th>\n",
       "    </tr>\n",
       "  </thead>\n",
       "  <tbody>\n",
       "    <tr>\n",
       "      <th>0</th>\n",
       "      <td>&lt;10</td>\n",
       "      <td>32</td>\n",
       "      <td>$3.40</td>\n",
       "      <td>$108.96</td>\n",
       "      <td>$4.54</td>\n",
       "    </tr>\n",
       "    <tr>\n",
       "      <th>1</th>\n",
       "      <td>11-14</td>\n",
       "      <td>54</td>\n",
       "      <td>$2.90</td>\n",
       "      <td>$156.60</td>\n",
       "      <td>$3.82</td>\n",
       "    </tr>\n",
       "    <tr>\n",
       "      <th>2</th>\n",
       "      <td>15-19</td>\n",
       "      <td>200</td>\n",
       "      <td>$3.11</td>\n",
       "      <td>$621.56</td>\n",
       "      <td>$4.14</td>\n",
       "    </tr>\n",
       "    <tr>\n",
       "      <th>3</th>\n",
       "      <td>20-24</td>\n",
       "      <td>325</td>\n",
       "      <td>$3.02</td>\n",
       "      <td>$981.64</td>\n",
       "      <td>$4.23</td>\n",
       "    </tr>\n",
       "    <tr>\n",
       "      <th>4</th>\n",
       "      <td>25-29</td>\n",
       "      <td>77</td>\n",
       "      <td>$2.88</td>\n",
       "      <td>$221.42</td>\n",
       "      <td>$3.75</td>\n",
       "    </tr>\n",
       "    <tr>\n",
       "      <th>5</th>\n",
       "      <td>30-34</td>\n",
       "      <td>52</td>\n",
       "      <td>$2.99</td>\n",
       "      <td>$155.71</td>\n",
       "      <td>$4.21</td>\n",
       "    </tr>\n",
       "    <tr>\n",
       "      <th>6</th>\n",
       "      <td>35-39</td>\n",
       "      <td>33</td>\n",
       "      <td>$3.40</td>\n",
       "      <td>$112.35</td>\n",
       "      <td>$4.32</td>\n",
       "    </tr>\n",
       "    <tr>\n",
       "      <th>7</th>\n",
       "      <td>40+</td>\n",
       "      <td>7</td>\n",
       "      <td>$3.08</td>\n",
       "      <td>$21.53</td>\n",
       "      <td>$3.08</td>\n",
       "    </tr>\n",
       "  </tbody>\n",
       "</table>\n",
       "</div>"
      ],
      "text/plain": [
       "  Age Group  Number of Purchases Average Purchase Price Total Purchase Value  \\\n",
       "0       <10                   32                  $3.40              $108.96   \n",
       "1     11-14                   54                  $2.90              $156.60   \n",
       "2     15-19                  200                  $3.11              $621.56   \n",
       "3     20-24                  325                  $3.02              $981.64   \n",
       "4     25-29                   77                  $2.88              $221.42   \n",
       "5     30-34                   52                  $2.99              $155.71   \n",
       "6     35-39                   33                  $3.40              $112.35   \n",
       "7       40+                    7                  $3.08               $21.53   \n",
       "\n",
       "  Average Purchase Per Person  \n",
       "0                       $4.54  \n",
       "1                       $3.82  \n",
       "2                       $4.14  \n",
       "3                       $4.23  \n",
       "4                       $3.75  \n",
       "5                       $4.21  \n",
       "6                       $4.32  \n",
       "7                       $3.08  "
      ]
     },
     "execution_count": 46,
     "metadata": {},
     "output_type": "execute_result"
    }
   ],
   "source": [
    "#format dataframe\n",
    "age_dem_df[\"Average Purchase Price\"] = age_dem_df[\"Average Purchase Price\"].map(\"${:,.2f}\".format)\n",
    "age_dem_df[\"Total Purchase Value\"] = age_dem_df[\"Total Purchase Value\"].map(\"${:,.2f}\".format)\n",
    "age_dem_df[\"Average Purchase Per Person\"] = age_dem_df[\"Average Purchase Per Person\"].map(\"${:,.2f}\".format)\n",
    "age_df.set_index('Age Group', inplace=True)\n",
    "age_dem_df"
   ]
  },
  {
   "cell_type": "markdown",
   "metadata": {},
   "source": [
    "### Top Spenders"
   ]
  },
  {
   "cell_type": "code",
   "execution_count": null,
   "metadata": {},
   "outputs": [],
   "source": [
    "#groupby SN\n",
    "spenders_df = heroes_df.groupby(\"SN\")\n",
    "#sum purchases by SN\n",
    "spender_total = spenders_df[\"Price\"].sum()\n",
    "#identify top 5 spenders\n",
    "top_spenders = spender_total.nlargest(5)\n",
    "#purchases count by SN\n",
    "spender_pur = spenders_df[\"SN\"].count()\n",
    "#average purchase price\n",
    "spender_avg = spenders_df[\"Price\"].mean()\n",
    "\n",
    "#summary dataframe\n",
    "top_spender_df = pd.DataFrame({\"Number of Purchases\":spender_pur,\"Average Purchase Price\":spender_avg,\"Total Purchase Value\":spender_total})\n",
    "top_spender_df = top_spender_df.sort_values(\"Total Purchase Value\", ascending = False)\n",
    "#format dataframe\n",
    "top_spender_df[\"Average Purchase Price\"] = top_spender_df[\"Average Purchase Price\"].map('${:,.2f}'.format)\n",
    "top_spender_df[\"Total Purchase Value\"] = top_spender_df[\"Total Purchase Value\"].map('${:,.2f}'.format)\n",
    "top_spender_df.head(5)\n"
   ]
  },
  {
   "cell_type": "markdown",
   "metadata": {},
   "source": [
    "### Most Popular Items"
   ]
  },
  {
   "cell_type": "code",
   "execution_count": null,
   "metadata": {},
   "outputs": [],
   "source": [
    "#make price dataframe\n",
    "item_df = heroes_df[[\"Item ID\",\"Item Name\",\"Price\"]]\n",
    "#groupby ItemID and Item Name\n",
    "item_grp = item_df.groupby([\"Item ID\",\"Item Name\"])\n",
    "#purchase count\n",
    "item_ct = item_grp[\"Item ID\"].count()\n",
    "#item price\n",
    "item_price = item_grp[\"Price\"].unique()\n",
    "#total purchase value\n",
    "item_val = item_grp[\"Price\"].sum()\n",
    "\n",
    "#summary dataframe\n",
    "popular_df = pd.DataFrame({\"Number of Purchases\":item_ct, \"Item Price\":item_price, \"Total Purchase Value\":item_val})\n",
    "popular_df = popular_df.sort_values(\"Number of Purchases\", ascending=False)\n",
    "#format table \n",
    "popular_df[\"Item Price\"] = popular_df[\"Item Price\"].astype(\"float\").map(\"${:,.2f}\".format)\n",
    "popular_df[\"Total Purchase Value\"] = popular_df[\"Total Purchase Value\"].astype(\"float\").map(\"${:,.2f}\".format)\n",
    "popular_df.head(5)"
   ]
  },
  {
   "cell_type": "markdown",
   "metadata": {},
   "source": [
    "### Most Profitable Items"
   ]
  },
  {
   "cell_type": "code",
   "execution_count": null,
   "metadata": {},
   "outputs": [],
   "source": [
    "#data frame from above popular_df, change df name because of formatting\n",
    "profitable_df = pd.DataFrame({\"Number of Purchases\":item_ct, \"Item Price\":item_price, \"Total Purchase Value\":item_val})\n",
    "#sort by purchase value\n",
    "profitable_df = profitable_df.sort_values(\"Total Purchase Value\", ascending=False)\n",
    "#format table\n",
    "profitable_df[\"Item Price\"] = profitable_df[\"Item Price\"].astype(\"float\").map(\"${:,.2f}\".format)\n",
    "profitable_df[\"Total Purchase Value\"] = profitable_df[\"Total Purchase Value\"].astype(\"float\").map(\"${:,.2f}\".format)\n",
    "profitable_df.head(5)"
   ]
  },
  {
   "cell_type": "code",
   "execution_count": null,
   "metadata": {},
   "outputs": [],
   "source": []
  }
 ],
 "metadata": {
  "kernelspec": {
   "display_name": "Python 3",
   "language": "python",
   "name": "python3"
  },
  "language_info": {
   "codemirror_mode": {
    "name": "ipython",
    "version": 3
   },
   "file_extension": ".py",
   "mimetype": "text/x-python",
   "name": "python",
   "nbconvert_exporter": "python",
   "pygments_lexer": "ipython3",
   "version": "3.6.8"
  }
 },
 "nbformat": 4,
 "nbformat_minor": 2
}
